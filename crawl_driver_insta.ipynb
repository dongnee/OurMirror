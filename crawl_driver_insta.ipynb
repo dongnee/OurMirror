{
 "cells": [
  {
   "cell_type": "markdown",
   "id": "93830c9f",
   "metadata": {},
   "source": [
    "### *인스타 크롤링*"
   ]
  },
  {
   "cell_type": "code",
   "execution_count": 1,
   "id": "3b283831",
   "metadata": {},
   "outputs": [],
   "source": [
    "from urllib.request import urlopen\n",
    "import urllib.request\n",
    "import requests\n",
    "from bs4 import BeautifulSoup\n",
    "from selenium import webdriver\n",
    "from selenium.webdriver.common.keys import Keys\n",
    "import time as time\n",
    "import getpass\n",
    "import random\n",
    "import re\n",
    " \n",
    "from time import sleep\n",
    " \n",
    "import pandas as pd\n",
    "import numpy as np\n",
    "import matplotlib.pyplot as plt\n",
    "%matplotlib inline"
   ]
  },
  {
   "cell_type": "code",
   "execution_count": 2,
   "id": "9951e1d8",
   "metadata": {},
   "outputs": [
    {
     "name": "stderr",
     "output_type": "stream",
     "text": [
      "C:\\Users\\imj\\AppData\\Local\\Temp\\ipykernel_8616\\1597058566.py:1: DeprecationWarning: executable_path has been deprecated, please pass in a Service object\n",
      "  driver = webdriver.Chrome(executable_path='./driver/chromedriver.exe')\n"
     ]
    }
   ],
   "source": [
    "driver = webdriver.Chrome(executable_path='./driver/chromedriver.exe')\n",
    "driver.implicitly_wait(3)"
   ]
  },
  {
   "cell_type": "markdown",
   "id": "aeab0781",
   "metadata": {},
   "source": [
    "#### 셀레니움 이용 --> 로그인 시켜야 됨"
   ]
  },
  {
   "cell_type": "code",
   "execution_count": 3,
   "id": "a87dc92c",
   "metadata": {},
   "outputs": [],
   "source": [
    "url = 'https://www.instagram.com/'\n",
    "driver.get(url)\n",
    "\n",
    "# 로딩하는데 시간이 걸릴 수 있으므로 3초간 대기\n",
    "time.sleep(3)"
   ]
  },
  {
   "cell_type": "code",
   "execution_count": 4,
   "id": "84314a28",
   "metadata": {},
   "outputs": [
    {
     "name": "stderr",
     "output_type": "stream",
     "text": [
      "C:\\Users\\imj\\AppData\\Local\\Temp\\ipykernel_8616\\500462811.py:2: DeprecationWarning: find_element_by_xpath is deprecated. Please use find_element(by=By.XPATH, value=xpath) instead\n",
      "  driver.find_element_by_xpath('//*[@id=\"loginForm\"]/div/div[1]/div/label/input').send_keys('dong____neeee')\n",
      "C:\\Users\\imj\\AppData\\Local\\Temp\\ipykernel_8616\\500462811.py:3: DeprecationWarning: find_element_by_xpath is deprecated. Please use find_element(by=By.XPATH, value=xpath) instead\n",
      "  driver.find_element_by_xpath('//*[@id=\"loginForm\"]/div/div[2]/div/label/input').send_keys('Enwnsdk0423^^')\n",
      "C:\\Users\\imj\\AppData\\Local\\Temp\\ipykernel_8616\\500462811.py:4: DeprecationWarning: find_element_by_xpath is deprecated. Please use find_element(by=By.XPATH, value=xpath) instead\n",
      "  driver.find_element_by_xpath('//*[@id=\"loginForm\"]/div/div[3]').click()\n"
     ]
    }
   ],
   "source": [
    "# 인스타계정으로 로그인\n",
    "driver.find_element_by_xpath('//*[@id=\"loginForm\"]/div/div[1]/div/label/input').send_keys('dong____neeee')\n",
    "driver.find_element_by_xpath('//*[@id=\"loginForm\"]/div/div[2]/div/label/input').send_keys('Enwnsdk0423^^')\n",
    "driver.find_element_by_xpath('//*[@id=\"loginForm\"]/div/div[3]').click()"
   ]
  },
  {
   "cell_type": "code",
   "execution_count": 5,
   "id": "02283301",
   "metadata": {},
   "outputs": [],
   "source": [
    "# '남자헤어스타일' 이라는 해시태그로 검색한 결과 띄우기\n",
    "driver.get('https://www.instagram.com/explore/tags/남자헤어스타일/')"
   ]
  },
  {
   "cell_type": "markdown",
   "id": "6236b739",
   "metadata": {},
   "source": [
    "## ★★★*자동화 시키기*★★★"
   ]
  },
  {
   "cell_type": "code",
   "execution_count": 31,
   "id": "86a6b0e1",
   "metadata": {},
   "outputs": [],
   "source": [
    "# 데이터 저장할 리스트\n",
    "# insta_dict = {'image': [],\n",
    "#               'text': [],\n",
    "#               'hashtag':[]}\n",
    "\n",
    "insta_dict = {'text': [],\n",
    "              'hashtag':[]}"
   ]
  },
  {
   "cell_type": "code",
   "execution_count": 6,
   "id": "893b9277",
   "metadata": {},
   "outputs": [],
   "source": [
    "insta_dict = {'hashtag':[]}"
   ]
  },
  {
   "cell_type": "code",
   "execution_count": 10,
   "id": "6bfde011",
   "metadata": {},
   "outputs": [
    {
     "name": "stderr",
     "output_type": "stream",
     "text": [
      "C:\\Users\\imj\\AppData\\Local\\Temp\\ipykernel_8616\\1613171267.py:3: DeprecationWarning: find_elements_by_class_name is deprecated. Please use find_elements(by=By.CLASS_NAME, value=name) instead\n",
      "  first_post = driver.find_elements_by_class_name('_aagu')\n"
     ]
    }
   ],
   "source": [
    "# 두번째 게시물 클릭 \n",
    "# 두번째 게시글부터 css가 동일하므로 첫번째 제외시키고 두번째부터 추출!\n",
    "first_post = driver.find_elements_by_class_name('_aagu')\n",
    "first_post[2].click()"
   ]
  },
  {
   "cell_type": "code",
   "execution_count": 33,
   "id": "ed8895d5",
   "metadata": {},
   "outputs": [
    {
     "name": "stderr",
     "output_type": "stream",
     "text": [
      "C:\\Users\\imj\\AppData\\Local\\Temp\\ipykernel_26264\\1853700161.py:7: DeprecationWarning: find_element_by_xpath is deprecated. Please use find_element(by=By.XPATH, value=xpath) instead\n",
      "  if driver.find_element_by_xpath('/html/body/div[6]/div[2]/div/div[2]/button'):\n",
      "C:\\Users\\imj\\AppData\\Local\\Temp\\ipykernel_26264\\1853700161.py:20: DeprecationWarning: find_element_by_css_selector is deprecated. Please use find_element(by=By.CSS_SELECTOR, value=css_selector) instead\n",
      "  raw_info = driver.find_element_by_css_selector('div.MOdxS ').text.split()\n",
      "C:\\Users\\imj\\AppData\\Local\\Temp\\ipykernel_26264\\1853700161.py:36: DeprecationWarning: find_elements_by_css_selector is deprecated. Please use find_elements(by=By.CSS_SELECTOR, value=css_selector) instead\n",
      "  raw_tags = driver.find_elements_by_css_selector('a.xil3i')\n"
     ]
    },
    {
     "name": "stdout",
     "output_type": "stream",
     "text": [
      "0번째 수집 중\t0.015000581741333008\n"
     ]
    },
    {
     "name": "stderr",
     "output_type": "stream",
     "text": [
      "C:\\Users\\imj\\AppData\\Local\\Temp\\ipykernel_26264\\1853700161.py:53: DeprecationWarning: find_element_by_xpath is deprecated. Please use find_element(by=By.XPATH, value=xpath) instead\n",
      "  driver.find_element_by_xpath('/html/body/div[6]/div[2]/div/div[2]/button').send_keys(Keys.ENTER)\n"
     ]
    },
    {
     "name": "stdout",
     "output_type": "stream",
     "text": [
      "20번째 수집 중\t48.51173734664917\n",
      "40번째 수집 중\t132.78940892219543\n",
      "60번째 수집 중\t187.85223698616028\n",
      "80번째 수집 중\t235.27331042289734\n",
      "100번째 수집 중\t288.1858115196228\n",
      "120번째 수집 중\t340.3287465572357\n",
      "140번째 수집 중\t390.2173659801483\n",
      "160번째 수집 중\t428.44610357284546\n",
      "180번째 수집 중\t472.4687554836273\n",
      "200번째 수집 중\t529.141304731369\n",
      "220번째 수집 중\t576.5421781539917\n"
     ]
    },
    {
     "name": "stderr",
     "output_type": "stream",
     "text": [
      "C:\\Users\\imj\\AppData\\Local\\Temp\\ipykernel_26264\\1853700161.py:60: DeprecationWarning: find_element_by_xpath is deprecated. Please use find_element(by=By.XPATH, value=xpath) instead\n",
      "  driver.find_element_by_xpath('/html/body/div[6]/div[2]/div/div[2]/button').send_keys(Keys.ENTER)\n"
     ]
    },
    {
     "name": "stdout",
     "output_type": "stream",
     "text": [
      "240번째 수집 중\t631.5429954528809\n",
      "260번째 수집 중\t688.7577543258667\n",
      "280번째 수집 중\t763.336752653122\n",
      "300번째 수집 중\t828.9230728149414\n",
      "320번째 수집 중\t883.4957921504974\n",
      "340번째 수집 중\t928.6039879322052\n",
      "360번째 수집 중\t974.7926955223083\n",
      "380번째 수집 중\t1023.9153249263763\n",
      "400번째 수집 중\t1072.2530534267426\n",
      "420번째 수집 중\t1123.0227580070496\n",
      "440번째 수집 중\t1188.8747735023499\n",
      "460번째 수집 중\t1238.7893443107605\n",
      "480번째 수집 중\t1279.793389081955\n"
     ]
    }
   ],
   "source": [
    "seq = 0\n",
    "start = time.time()\n",
    " \n",
    "while True:\n",
    "    try:\n",
    "        # '다음' 버튼 있는 게시글에 한해 이미지, 내용, 해시태그 추출\n",
    "        if driver.find_element_by_xpath('/html/body/div[6]/div[2]/div/div[2]/button'):\n",
    "        \n",
    "            if seq % 20 == 0:\n",
    "            # 작업시간 나타내는 구간\n",
    "            # time.time() - start : 현재 시각 - 작업 시작한 시각 = 소요시간(초 단위)\n",
    "                print('{}번째 수집 중'.format(seq), time.time()-start, sep='\\t')\n",
    "              \n",
    "            ## 이미지 수집\n",
    "#             image = driver.find_element_by_css_selector('div._97aPb img.FFVAD')\n",
    "#             image_url = image.get_attribute('src')\n",
    "#             insta_dict['image'].append(image_url)\n",
    "            \n",
    "            ## text 정보수집\n",
    "            raw_info = driver.find_element_by_css_selector('div.MOdxS ').text.split()\n",
    "            text = []\n",
    "            for i in range(len(raw_info)):\n",
    "                # 첫번째 text는 아이디니까 제외 \n",
    "                if i == 0:\n",
    "                    pass\n",
    "                # 두번째부터 추출\n",
    "                else:\n",
    "                    if '#' in raw_info[i]:\n",
    "                        pass\n",
    "                    else:\n",
    "                        text.append(raw_info[i])\n",
    "            clean_text = ' '.join(text)\n",
    "            insta_dict['text'].append(clean_text)\n",
    " \n",
    "            ## hashtag 수집\n",
    "            raw_tags = driver.find_elements_by_css_selector('a.xil3i')\n",
    "            hash_tag = []\n",
    "            for i in range(len(raw_tags)):\n",
    "                if raw_tags[i].text == '':\n",
    "                    pass\n",
    "                else:\n",
    "                    hash_tag.append(raw_tags[i].text)\n",
    " \n",
    "            insta_dict['hashtag'].append(hash_tag)\n",
    " \n",
    "            seq += 1\n",
    "            \n",
    "            # ---------- 추출할 게시글 개수 지정하는 부분 ----------\n",
    "            # 1000개로 하니까 계정 정지돼서 100개만 써뒀습니다!\n",
    "            if seq == 500:\n",
    "                break\n",
    "             \n",
    "            driver.find_element_by_xpath('/html/body/div[6]/div[2]/div/div[2]/button').send_keys(Keys.ENTER)\n",
    "            time.sleep(1.5)\n",
    "                        \n",
    "        else:\n",
    "            break\n",
    "            \n",
    "    except:\n",
    "        driver.find_element_by_xpath('/html/body/div[6]/div[2]/div/div[2]/button').send_keys(Keys.ENTER)\n",
    "        time.sleep(2)\n",
    "        "
   ]
  },
  {
   "cell_type": "code",
   "execution_count": 11,
   "id": "e39d1682",
   "metadata": {},
   "outputs": [
    {
     "name": "stderr",
     "output_type": "stream",
     "text": [
      "C:\\Users\\imj\\AppData\\Local\\Temp\\ipykernel_8616\\3323529781.py:7: DeprecationWarning: find_element_by_xpath is deprecated. Please use find_element(by=By.XPATH, value=xpath) instead\n",
      "  if driver.find_element_by_xpath('/html/body/div[6]/div[2]/div/div[2]/button'):\n",
      "C:\\Users\\imj\\AppData\\Local\\Temp\\ipykernel_8616\\3323529781.py:43: DeprecationWarning: find_element_by_xpath is deprecated. Please use find_element(by=By.XPATH, value=xpath) instead\n",
      "  driver.find_element_by_xpath('/html/body/div[6]/div[2]/div/div[2]/button').send_keys(Keys.ENTER)\n"
     ]
    },
    {
     "ename": "NoSuchElementException",
     "evalue": "Message: no such element: Unable to locate element: {\"method\":\"xpath\",\"selector\":\"/html/body/div[6]/div[2]/div/div[2]/button\"}\n  (Session info: chrome=101.0.4951.54)\nStacktrace:\nBacktrace:\n\tOrdinal0 [0x01217413+2389011]\n\tOrdinal0 [0x011A9F61+1941345]\n\tOrdinal0 [0x0109C658+837208]\n\tOrdinal0 [0x010C91DD+1020381]\n\tOrdinal0 [0x010C949B+1021083]\n\tOrdinal0 [0x010F6032+1204274]\n\tOrdinal0 [0x010E4194+1130900]\n\tOrdinal0 [0x010F4302+1196802]\n\tOrdinal0 [0x010E3F66+1130342]\n\tOrdinal0 [0x010BE546+976198]\n\tOrdinal0 [0x010BF456+980054]\n\tGetHandleVerifier [0x013C9632+1727522]\n\tGetHandleVerifier [0x0147BA4D+2457661]\n\tGetHandleVerifier [0x012AEB81+569713]\n\tGetHandleVerifier [0x012ADD76+566118]\n\tOrdinal0 [0x011B0B2B+1968939]\n\tOrdinal0 [0x011B5988+1989000]\n\tOrdinal0 [0x011B5A75+1989237]\n\tOrdinal0 [0x011BECB1+2026673]\n\tBaseThreadInitThunk [0x76DEFA29+25]\n\tRtlGetAppContainerNamedObjectPath [0x77E27A7E+286]\n\tRtlGetAppContainerNamedObjectPath [0x77E27A4E+238]\n",
     "output_type": "error",
     "traceback": [
      "\u001b[1;31m---------------------------------------------------------------------------\u001b[0m",
      "\u001b[1;31mNoSuchElementException\u001b[0m                    Traceback (most recent call last)",
      "Input \u001b[1;32mIn [11]\u001b[0m, in \u001b[0;36m<cell line: 5>\u001b[1;34m()\u001b[0m\n\u001b[0;32m      5\u001b[0m \u001b[38;5;28;01mtry\u001b[39;00m:\n\u001b[0;32m      6\u001b[0m     \u001b[38;5;66;03m# '다음' 버튼 있는 게시글에 한해 이미지, 내용, 해시태그 추출\u001b[39;00m\n\u001b[1;32m----> 7\u001b[0m     \u001b[38;5;28;01mif\u001b[39;00m \u001b[43mdriver\u001b[49m\u001b[38;5;241;43m.\u001b[39;49m\u001b[43mfind_element_by_xpath\u001b[49m\u001b[43m(\u001b[49m\u001b[38;5;124;43m'\u001b[39;49m\u001b[38;5;124;43m/html/body/div[6]/div[2]/div/div[2]/button\u001b[39;49m\u001b[38;5;124;43m'\u001b[39;49m\u001b[43m)\u001b[49m:\n\u001b[0;32m      9\u001b[0m         \u001b[38;5;28;01mif\u001b[39;00m seq \u001b[38;5;241m%\u001b[39m \u001b[38;5;241m20\u001b[39m \u001b[38;5;241m==\u001b[39m \u001b[38;5;241m0\u001b[39m:\n\u001b[0;32m     10\u001b[0m         \u001b[38;5;66;03m# 작업시간 나타내는 구간\u001b[39;00m\n\u001b[0;32m     11\u001b[0m         \u001b[38;5;66;03m# time.time() - start : 현재 시각 - 작업 시작한 시각 = 소요시간(초 단위)\u001b[39;00m\n",
      "File \u001b[1;32mc:\\users\\imj\\pycharmprojects\\pythonproject\\venv\\lib\\site-packages\\selenium\\webdriver\\remote\\webdriver.py:521\u001b[0m, in \u001b[0;36mWebDriver.find_element_by_xpath\u001b[1;34m(self, xpath)\u001b[0m\n\u001b[0;32m    516\u001b[0m warnings\u001b[38;5;241m.\u001b[39mwarn(\n\u001b[0;32m    517\u001b[0m     \u001b[38;5;124m\"\u001b[39m\u001b[38;5;124mfind_element_by_xpath is deprecated. Please use find_element(by=By.XPATH, value=xpath) instead\u001b[39m\u001b[38;5;124m\"\u001b[39m,\n\u001b[0;32m    518\u001b[0m     \u001b[38;5;167;01mDeprecationWarning\u001b[39;00m,\n\u001b[0;32m    519\u001b[0m     stacklevel\u001b[38;5;241m=\u001b[39m\u001b[38;5;241m2\u001b[39m,\n\u001b[0;32m    520\u001b[0m )\n\u001b[1;32m--> 521\u001b[0m \u001b[38;5;28;01mreturn\u001b[39;00m \u001b[38;5;28;43mself\u001b[39;49m\u001b[38;5;241;43m.\u001b[39;49m\u001b[43mfind_element\u001b[49m\u001b[43m(\u001b[49m\u001b[43mby\u001b[49m\u001b[38;5;241;43m=\u001b[39;49m\u001b[43mBy\u001b[49m\u001b[38;5;241;43m.\u001b[39;49m\u001b[43mXPATH\u001b[49m\u001b[43m,\u001b[49m\u001b[43m \u001b[49m\u001b[43mvalue\u001b[49m\u001b[38;5;241;43m=\u001b[39;49m\u001b[43mxpath\u001b[49m\u001b[43m)\u001b[49m\n",
      "File \u001b[1;32mc:\\users\\imj\\pycharmprojects\\pythonproject\\venv\\lib\\site-packages\\selenium\\webdriver\\remote\\webdriver.py:1248\u001b[0m, in \u001b[0;36mWebDriver.find_element\u001b[1;34m(self, by, value)\u001b[0m\n\u001b[0;32m   1246\u001b[0m     value \u001b[38;5;241m=\u001b[39m \u001b[38;5;124m'\u001b[39m\u001b[38;5;124m[name=\u001b[39m\u001b[38;5;124m\"\u001b[39m\u001b[38;5;132;01m%s\u001b[39;00m\u001b[38;5;124m\"\u001b[39m\u001b[38;5;124m]\u001b[39m\u001b[38;5;124m'\u001b[39m \u001b[38;5;241m%\u001b[39m value\n\u001b[1;32m-> 1248\u001b[0m \u001b[38;5;28;01mreturn\u001b[39;00m \u001b[38;5;28;43mself\u001b[39;49m\u001b[38;5;241;43m.\u001b[39;49m\u001b[43mexecute\u001b[49m\u001b[43m(\u001b[49m\u001b[43mCommand\u001b[49m\u001b[38;5;241;43m.\u001b[39;49m\u001b[43mFIND_ELEMENT\u001b[49m\u001b[43m,\u001b[49m\u001b[43m \u001b[49m\u001b[43m{\u001b[49m\n\u001b[0;32m   1249\u001b[0m \u001b[43m    \u001b[49m\u001b[38;5;124;43m'\u001b[39;49m\u001b[38;5;124;43musing\u001b[39;49m\u001b[38;5;124;43m'\u001b[39;49m\u001b[43m:\u001b[49m\u001b[43m \u001b[49m\u001b[43mby\u001b[49m\u001b[43m,\u001b[49m\n\u001b[0;32m   1250\u001b[0m \u001b[43m    \u001b[49m\u001b[38;5;124;43m'\u001b[39;49m\u001b[38;5;124;43mvalue\u001b[39;49m\u001b[38;5;124;43m'\u001b[39;49m\u001b[43m:\u001b[49m\u001b[43m \u001b[49m\u001b[43mvalue\u001b[49m\u001b[43m}\u001b[49m\u001b[43m)\u001b[49m[\u001b[38;5;124m'\u001b[39m\u001b[38;5;124mvalue\u001b[39m\u001b[38;5;124m'\u001b[39m]\n",
      "File \u001b[1;32mc:\\users\\imj\\pycharmprojects\\pythonproject\\venv\\lib\\site-packages\\selenium\\webdriver\\remote\\webdriver.py:425\u001b[0m, in \u001b[0;36mWebDriver.execute\u001b[1;34m(self, driver_command, params)\u001b[0m\n\u001b[0;32m    424\u001b[0m \u001b[38;5;28;01mif\u001b[39;00m response:\n\u001b[1;32m--> 425\u001b[0m     \u001b[38;5;28;43mself\u001b[39;49m\u001b[38;5;241;43m.\u001b[39;49m\u001b[43merror_handler\u001b[49m\u001b[38;5;241;43m.\u001b[39;49m\u001b[43mcheck_response\u001b[49m\u001b[43m(\u001b[49m\u001b[43mresponse\u001b[49m\u001b[43m)\u001b[49m\n\u001b[0;32m    426\u001b[0m     response[\u001b[38;5;124m'\u001b[39m\u001b[38;5;124mvalue\u001b[39m\u001b[38;5;124m'\u001b[39m] \u001b[38;5;241m=\u001b[39m \u001b[38;5;28mself\u001b[39m\u001b[38;5;241m.\u001b[39m_unwrap_value(\n\u001b[0;32m    427\u001b[0m         response\u001b[38;5;241m.\u001b[39mget(\u001b[38;5;124m'\u001b[39m\u001b[38;5;124mvalue\u001b[39m\u001b[38;5;124m'\u001b[39m, \u001b[38;5;28;01mNone\u001b[39;00m))\n",
      "File \u001b[1;32mc:\\users\\imj\\pycharmprojects\\pythonproject\\venv\\lib\\site-packages\\selenium\\webdriver\\remote\\errorhandler.py:247\u001b[0m, in \u001b[0;36mErrorHandler.check_response\u001b[1;34m(self, response)\u001b[0m\n\u001b[0;32m    246\u001b[0m     \u001b[38;5;28;01mraise\u001b[39;00m exception_class(message, screen, stacktrace, alert_text)  \u001b[38;5;66;03m# type: ignore[call-arg]  # mypy is not smart enough here\u001b[39;00m\n\u001b[1;32m--> 247\u001b[0m \u001b[38;5;28;01mraise\u001b[39;00m exception_class(message, screen, stacktrace)\n",
      "\u001b[1;31mNoSuchElementException\u001b[0m: Message: no such element: Unable to locate element: {\"method\":\"xpath\",\"selector\":\"/html/body/div[6]/div[2]/div/div[2]/button\"}\n  (Session info: chrome=101.0.4951.54)\nStacktrace:\nBacktrace:\n\tOrdinal0 [0x01217413+2389011]\n\tOrdinal0 [0x011A9F61+1941345]\n\tOrdinal0 [0x0109C658+837208]\n\tOrdinal0 [0x010C91DD+1020381]\n\tOrdinal0 [0x010C949B+1021083]\n\tOrdinal0 [0x010F6032+1204274]\n\tOrdinal0 [0x010E4194+1130900]\n\tOrdinal0 [0x010F4302+1196802]\n\tOrdinal0 [0x010E3F66+1130342]\n\tOrdinal0 [0x010BE546+976198]\n\tOrdinal0 [0x010BF456+980054]\n\tGetHandleVerifier [0x013C9632+1727522]\n\tGetHandleVerifier [0x0147BA4D+2457661]\n\tGetHandleVerifier [0x012AEB81+569713]\n\tGetHandleVerifier [0x012ADD76+566118]\n\tOrdinal0 [0x011B0B2B+1968939]\n\tOrdinal0 [0x011B5988+1989000]\n\tOrdinal0 [0x011B5A75+1989237]\n\tOrdinal0 [0x011BECB1+2026673]\n\tBaseThreadInitThunk [0x76DEFA29+25]\n\tRtlGetAppContainerNamedObjectPath [0x77E27A7E+286]\n\tRtlGetAppContainerNamedObjectPath [0x77E27A4E+238]\n",
      "\nDuring handling of the above exception, another exception occurred:\n",
      "\u001b[1;31mNoSuchElementException\u001b[0m                    Traceback (most recent call last)",
      "Input \u001b[1;32mIn [11]\u001b[0m, in \u001b[0;36m<cell line: 5>\u001b[1;34m()\u001b[0m\n\u001b[0;32m     40\u001b[0m         \u001b[38;5;28;01mbreak\u001b[39;00m\n\u001b[0;32m     42\u001b[0m \u001b[38;5;28;01mexcept\u001b[39;00m:\n\u001b[1;32m---> 43\u001b[0m     \u001b[43mdriver\u001b[49m\u001b[38;5;241;43m.\u001b[39;49m\u001b[43mfind_element_by_xpath\u001b[49m\u001b[43m(\u001b[49m\u001b[38;5;124;43m'\u001b[39;49m\u001b[38;5;124;43m/html/body/div[6]/div[2]/div/div[2]/button\u001b[39;49m\u001b[38;5;124;43m'\u001b[39;49m\u001b[43m)\u001b[49m\u001b[38;5;241m.\u001b[39msend_keys(Keys\u001b[38;5;241m.\u001b[39mENTER)\n\u001b[0;32m     44\u001b[0m     time\u001b[38;5;241m.\u001b[39msleep(\u001b[38;5;241m2\u001b[39m)\n",
      "File \u001b[1;32mc:\\users\\imj\\pycharmprojects\\pythonproject\\venv\\lib\\site-packages\\selenium\\webdriver\\remote\\webdriver.py:521\u001b[0m, in \u001b[0;36mWebDriver.find_element_by_xpath\u001b[1;34m(self, xpath)\u001b[0m\n\u001b[0;32m    499\u001b[0m \u001b[38;5;124;03m\"\"\"\u001b[39;00m\n\u001b[0;32m    500\u001b[0m \u001b[38;5;124;03mFinds an element by xpath.\u001b[39;00m\n\u001b[0;32m    501\u001b[0m \n\u001b[1;32m   (...)\u001b[0m\n\u001b[0;32m    514\u001b[0m \u001b[38;5;124;03m        element = driver.find_element_by_xpath('//div/td[1]')\u001b[39;00m\n\u001b[0;32m    515\u001b[0m \u001b[38;5;124;03m\"\"\"\u001b[39;00m\n\u001b[0;32m    516\u001b[0m warnings\u001b[38;5;241m.\u001b[39mwarn(\n\u001b[0;32m    517\u001b[0m     \u001b[38;5;124m\"\u001b[39m\u001b[38;5;124mfind_element_by_xpath is deprecated. Please use find_element(by=By.XPATH, value=xpath) instead\u001b[39m\u001b[38;5;124m\"\u001b[39m,\n\u001b[0;32m    518\u001b[0m     \u001b[38;5;167;01mDeprecationWarning\u001b[39;00m,\n\u001b[0;32m    519\u001b[0m     stacklevel\u001b[38;5;241m=\u001b[39m\u001b[38;5;241m2\u001b[39m,\n\u001b[0;32m    520\u001b[0m )\n\u001b[1;32m--> 521\u001b[0m \u001b[38;5;28;01mreturn\u001b[39;00m \u001b[38;5;28;43mself\u001b[39;49m\u001b[38;5;241;43m.\u001b[39;49m\u001b[43mfind_element\u001b[49m\u001b[43m(\u001b[49m\u001b[43mby\u001b[49m\u001b[38;5;241;43m=\u001b[39;49m\u001b[43mBy\u001b[49m\u001b[38;5;241;43m.\u001b[39;49m\u001b[43mXPATH\u001b[49m\u001b[43m,\u001b[49m\u001b[43m \u001b[49m\u001b[43mvalue\u001b[49m\u001b[38;5;241;43m=\u001b[39;49m\u001b[43mxpath\u001b[49m\u001b[43m)\u001b[49m\n",
      "File \u001b[1;32mc:\\users\\imj\\pycharmprojects\\pythonproject\\venv\\lib\\site-packages\\selenium\\webdriver\\remote\\webdriver.py:1248\u001b[0m, in \u001b[0;36mWebDriver.find_element\u001b[1;34m(self, by, value)\u001b[0m\n\u001b[0;32m   1245\u001b[0m     by \u001b[38;5;241m=\u001b[39m By\u001b[38;5;241m.\u001b[39mCSS_SELECTOR\n\u001b[0;32m   1246\u001b[0m     value \u001b[38;5;241m=\u001b[39m \u001b[38;5;124m'\u001b[39m\u001b[38;5;124m[name=\u001b[39m\u001b[38;5;124m\"\u001b[39m\u001b[38;5;132;01m%s\u001b[39;00m\u001b[38;5;124m\"\u001b[39m\u001b[38;5;124m]\u001b[39m\u001b[38;5;124m'\u001b[39m \u001b[38;5;241m%\u001b[39m value\n\u001b[1;32m-> 1248\u001b[0m \u001b[38;5;28;01mreturn\u001b[39;00m \u001b[38;5;28;43mself\u001b[39;49m\u001b[38;5;241;43m.\u001b[39;49m\u001b[43mexecute\u001b[49m\u001b[43m(\u001b[49m\u001b[43mCommand\u001b[49m\u001b[38;5;241;43m.\u001b[39;49m\u001b[43mFIND_ELEMENT\u001b[49m\u001b[43m,\u001b[49m\u001b[43m \u001b[49m\u001b[43m{\u001b[49m\n\u001b[0;32m   1249\u001b[0m \u001b[43m    \u001b[49m\u001b[38;5;124;43m'\u001b[39;49m\u001b[38;5;124;43musing\u001b[39;49m\u001b[38;5;124;43m'\u001b[39;49m\u001b[43m:\u001b[49m\u001b[43m \u001b[49m\u001b[43mby\u001b[49m\u001b[43m,\u001b[49m\n\u001b[0;32m   1250\u001b[0m \u001b[43m    \u001b[49m\u001b[38;5;124;43m'\u001b[39;49m\u001b[38;5;124;43mvalue\u001b[39;49m\u001b[38;5;124;43m'\u001b[39;49m\u001b[43m:\u001b[49m\u001b[43m \u001b[49m\u001b[43mvalue\u001b[49m\u001b[43m}\u001b[49m\u001b[43m)\u001b[49m[\u001b[38;5;124m'\u001b[39m\u001b[38;5;124mvalue\u001b[39m\u001b[38;5;124m'\u001b[39m]\n",
      "File \u001b[1;32mc:\\users\\imj\\pycharmprojects\\pythonproject\\venv\\lib\\site-packages\\selenium\\webdriver\\remote\\webdriver.py:425\u001b[0m, in \u001b[0;36mWebDriver.execute\u001b[1;34m(self, driver_command, params)\u001b[0m\n\u001b[0;32m    423\u001b[0m response \u001b[38;5;241m=\u001b[39m \u001b[38;5;28mself\u001b[39m\u001b[38;5;241m.\u001b[39mcommand_executor\u001b[38;5;241m.\u001b[39mexecute(driver_command, params)\n\u001b[0;32m    424\u001b[0m \u001b[38;5;28;01mif\u001b[39;00m response:\n\u001b[1;32m--> 425\u001b[0m     \u001b[38;5;28;43mself\u001b[39;49m\u001b[38;5;241;43m.\u001b[39;49m\u001b[43merror_handler\u001b[49m\u001b[38;5;241;43m.\u001b[39;49m\u001b[43mcheck_response\u001b[49m\u001b[43m(\u001b[49m\u001b[43mresponse\u001b[49m\u001b[43m)\u001b[49m\n\u001b[0;32m    426\u001b[0m     response[\u001b[38;5;124m'\u001b[39m\u001b[38;5;124mvalue\u001b[39m\u001b[38;5;124m'\u001b[39m] \u001b[38;5;241m=\u001b[39m \u001b[38;5;28mself\u001b[39m\u001b[38;5;241m.\u001b[39m_unwrap_value(\n\u001b[0;32m    427\u001b[0m         response\u001b[38;5;241m.\u001b[39mget(\u001b[38;5;124m'\u001b[39m\u001b[38;5;124mvalue\u001b[39m\u001b[38;5;124m'\u001b[39m, \u001b[38;5;28;01mNone\u001b[39;00m))\n\u001b[0;32m    428\u001b[0m     \u001b[38;5;28;01mreturn\u001b[39;00m response\n",
      "File \u001b[1;32mc:\\users\\imj\\pycharmprojects\\pythonproject\\venv\\lib\\site-packages\\selenium\\webdriver\\remote\\errorhandler.py:247\u001b[0m, in \u001b[0;36mErrorHandler.check_response\u001b[1;34m(self, response)\u001b[0m\n\u001b[0;32m    245\u001b[0m         alert_text \u001b[38;5;241m=\u001b[39m value[\u001b[38;5;124m'\u001b[39m\u001b[38;5;124malert\u001b[39m\u001b[38;5;124m'\u001b[39m]\u001b[38;5;241m.\u001b[39mget(\u001b[38;5;124m'\u001b[39m\u001b[38;5;124mtext\u001b[39m\u001b[38;5;124m'\u001b[39m)\n\u001b[0;32m    246\u001b[0m     \u001b[38;5;28;01mraise\u001b[39;00m exception_class(message, screen, stacktrace, alert_text)  \u001b[38;5;66;03m# type: ignore[call-arg]  # mypy is not smart enough here\u001b[39;00m\n\u001b[1;32m--> 247\u001b[0m \u001b[38;5;28;01mraise\u001b[39;00m exception_class(message, screen, stacktrace)\n",
      "\u001b[1;31mNoSuchElementException\u001b[0m: Message: no such element: Unable to locate element: {\"method\":\"xpath\",\"selector\":\"/html/body/div[6]/div[2]/div/div[2]/button\"}\n  (Session info: chrome=101.0.4951.54)\nStacktrace:\nBacktrace:\n\tOrdinal0 [0x01217413+2389011]\n\tOrdinal0 [0x011A9F61+1941345]\n\tOrdinal0 [0x0109C658+837208]\n\tOrdinal0 [0x010C91DD+1020381]\n\tOrdinal0 [0x010C949B+1021083]\n\tOrdinal0 [0x010F6032+1204274]\n\tOrdinal0 [0x010E4194+1130900]\n\tOrdinal0 [0x010F4302+1196802]\n\tOrdinal0 [0x010E3F66+1130342]\n\tOrdinal0 [0x010BE546+976198]\n\tOrdinal0 [0x010BF456+980054]\n\tGetHandleVerifier [0x013C9632+1727522]\n\tGetHandleVerifier [0x0147BA4D+2457661]\n\tGetHandleVerifier [0x012AEB81+569713]\n\tGetHandleVerifier [0x012ADD76+566118]\n\tOrdinal0 [0x011B0B2B+1968939]\n\tOrdinal0 [0x011B5988+1989000]\n\tOrdinal0 [0x011B5A75+1989237]\n\tOrdinal0 [0x011BECB1+2026673]\n\tBaseThreadInitThunk [0x76DEFA29+25]\n\tRtlGetAppContainerNamedObjectPath [0x77E27A7E+286]\n\tRtlGetAppContainerNamedObjectPath [0x77E27A4E+238]\n"
     ]
    }
   ],
   "source": [
    "seq = 0\n",
    "start = time.time()\n",
    " \n",
    "while True:\n",
    "    try:\n",
    "        # '다음' 버튼 있는 게시글에 한해 이미지, 내용, 해시태그 추출\n",
    "        //*[@id=\"mount_0_0_dq\"]/div/div[1]/div/div[2]/div/div/div[1]/div/div[3]/div/div/div/div/div[1]/div/div/div[2]/button\n",
    "        //*[@id=\"mount_0_0_dq\"]/div/div[1]/div/div[2]/div/div/div[1]/div/div[3]/div/div/div/div/div[1]/div/div/div[2]/button\n",
    "        if driver.find_element_by_xpath('/html/body/div[6]/div[2]/div/div[2]/button'):\n",
    "        \n",
    "            if seq % 20 == 0:\n",
    "            # 작업시간 나타내는 구간\n",
    "            # time.time() - start : 현재 시각 - 작업 시작한 시각 = 소요시간(초 단위)\n",
    "                print('{}번째 수집 중'.format(seq), time.time()-start, sep='\\t')\n",
    "              \n",
    "            \n",
    "            hash_tag = []\n",
    "            ## hashtag 수집\n",
    "            raw_tags = driver.find_elements_by_css_selector('a.xil3i')\n",
    "            tag_raw = raw_tags.text\n",
    "            tags = re.findall('#[A-Za-z0-9가-힣]+', tag_raw)\n",
    "            tag = ''.join(tags).replace('#',\" \")\n",
    "            \n",
    "            tag_data = tag.split()\n",
    "            \n",
    "            for tag_one in tag_data:\n",
    "                hash_tag.append(tag_one)\n",
    "\n",
    "            insta_dict['hashtag'].append(hash_tag)\n",
    " \n",
    "            seq += 1\n",
    "            \n",
    "            # ---------- 추출할 게시글 개수 지정하는 부분 ----------\n",
    "            # 1000개로 하니까 계정 정지돼서 100개만 써뒀습니다!\n",
    "            if seq == 100:\n",
    "                break\n",
    "             \n",
    "            driver.find_element_by_xpath('/html/body/div[6]/div[2]/div/div[2]/button').send_keys(Keys.ENTER)\n",
    "            time.sleep(1.5)\n",
    "                        \n",
    "        else:\n",
    "            break\n",
    "            \n",
    "    except:\n",
    "        driver.find_element_by_xpath('/html/body/div[6]/div[2]/div/div[2]/button').send_keys(Keys.ENTER)\n",
    "        time.sleep(2)\n",
    "        "
   ]
  },
  {
   "cell_type": "code",
   "execution_count": 34,
   "id": "ca5915b3",
   "metadata": {},
   "outputs": [
    {
     "name": "stdout",
     "output_type": "stream",
     "text": [
      "500\n",
      "500\n"
     ]
    }
   ],
   "source": [
    "# print(len(insta_dict['image']))\n",
    "print(len(insta_dict['text']))\n",
    "print(len(insta_dict['hashtag']))\n",
    "\n",
    "# insta_dict['image'].remove('https://scontent-ssn1-1.cdninstagram.com/v/t51.2885-15/283471686_718338565980970_2877682744980102477_n.jpg?stp=dst-jpg_e35&_nc_ht=scontent-ssn1-1.cdninstagram.com&_nc_cat=110&_nc_ohc=CC9asmKlLxgAX89ZGe0&edm=ALQROFkBAAAA&ccb=7-5&ig_cache_key=Mjg0NTYwOTg0OTM3MzA2ODUxNA%3D%3D.2-ccb7-5&oh=00_AT-C9bci-h6t2PIErRto3I-En5Nl76r0-86sLCGyqvwdYw&oe=62962D3B&_nc_sid=30a2ef')\n",
    "# print(len(insta_dict['image']))\n",
    "# print(insta_dict['image'])"
   ]
  },
  {
   "cell_type": "code",
   "execution_count": 35,
   "id": "651292b2",
   "metadata": {},
   "outputs": [
    {
     "data": {
      "text/html": [
       "<div>\n",
       "<style scoped>\n",
       "    .dataframe tbody tr th:only-of-type {\n",
       "        vertical-align: middle;\n",
       "    }\n",
       "\n",
       "    .dataframe tbody tr th {\n",
       "        vertical-align: top;\n",
       "    }\n",
       "\n",
       "    .dataframe thead th {\n",
       "        text-align: right;\n",
       "    }\n",
       "</style>\n",
       "<table border=\"1\" class=\"dataframe\">\n",
       "  <thead>\n",
       "    <tr style=\"text-align: right;\">\n",
       "      <th></th>\n",
       "      <th>text</th>\n",
       "      <th>hashtag</th>\n",
       "    </tr>\n",
       "  </thead>\n",
       "  <tbody>\n",
       "    <tr>\n",
       "      <th>0</th>\n",
       "      <td>시그니처 두상교정 ⠀ ⠀ 소중한 고객님의 입니다🥰 ⠀ ⠀ 꾸준히 사랑 받는 입니다🥰...</td>\n",
       "      <td>[#다운펌, #가일컷, #가일펌, #후기사진, #가일펌스타일, #강남미용실, #강남...</td>\n",
       "    </tr>\n",
       "    <tr>\n",
       "      <th>1</th>\n",
       "      <td>음악차트 빌보드 라이센스 브랜드 빌보드스타일(@billboardsnstyle )이 ...</td>\n",
       "      <td>[#광고, #빌보드스타일, #빌보드, #billboardstyle, #billboa...</td>\n",
       "    </tr>\n",
       "    <tr>\n",
       "      <th>2</th>\n",
       "      <td>자연스럽게! . 꼬불거리는 S컬은 시간이 지날수록 머리가 부해지는 단점이 있죠! 자...</td>\n",
       "      <td>[#볼륨펌, #시스루뱅, #남자시스루뱅, #시스루컷, #볼륨매직펌, #남자볼륨매직,...</td>\n",
       "    </tr>\n",
       "    <tr>\n",
       "      <th>3</th>\n",
       "      <td>실장 👉🏼@seewoobaek - - 😁 😁 - - 😄많이뜨는 직모상태에서 자연스럽...</td>\n",
       "      <td>[#아이롱펌, #남자아이롱펌, #가일펌, #가일컷]</td>\n",
       "    </tr>\n",
       "    <tr>\n",
       "      <th>4</th>\n",
       "      <td>+ 💼 + 👞 = 🧡 @burberry @thombrowne @hermes @bot...</td>\n",
       "      <td>[#에르메스가방, #에르백, #hermesbag, #herbag, #bottegav...</td>\n",
       "    </tr>\n",
       "    <tr>\n",
       "      <th>...</th>\n",
       "      <td>...</td>\n",
       "      <td>...</td>\n",
       "    </tr>\n",
       "    <tr>\n",
       "      <th>495</th>\n",
       "      <td>전상품 최대 70% 할인중 ] snsmong.com 상품 가격표 - ✅ 24시간 무...</td>\n",
       "      <td>[#헤어스타그램, #레이어드컷, #여자펌추천, #미디움펌, #헤어디자이너, #매직,...</td>\n",
       "    </tr>\n",
       "    <tr>\n",
       "      <th>496</th>\n",
       "      <td>포마드가 새롭게 런칭합니다. . . 또다른 웨트스타일링에 시작을 알리는 22년 1월...</td>\n",
       "      <td>[#벤라우진웨트포마드, #벤라우진포마드, #웨트포마드, #웨트헤어스타일링, #ben...</td>\n",
       "    </tr>\n",
       "    <tr>\n",
       "      <th>497</th>\n",
       "      <td></td>\n",
       "      <td>[]</td>\n",
       "    </tr>\n",
       "    <tr>\n",
       "      <th>498</th>\n",
       "      <td>쓰면 머리가 떡진다? 놉! 에브리톡톡 헤어토닉은 건조한 상태에서 사용하셔도 머리가 ...</td>\n",
       "      <td>[]</td>\n",
       "    </tr>\n",
       "    <tr>\n",
       "      <th>499</th>\n",
       "      <td>듯 안 꾸민 러프한 헤어스타일에 민트 컬러로 화사한 분위기를 만들어봤어요👀 살짝 하...</td>\n",
       "      <td>[#금강연화, #협찬, #맨트리, #남자헤어스타일, #올림머리, #남자머리, #남자...</td>\n",
       "    </tr>\n",
       "  </tbody>\n",
       "</table>\n",
       "<p>500 rows × 2 columns</p>\n",
       "</div>"
      ],
      "text/plain": [
       "                                                  text  \\\n",
       "0    시그니처 두상교정 ⠀ ⠀ 소중한 고객님의 입니다🥰 ⠀ ⠀ 꾸준히 사랑 받는 입니다🥰...   \n",
       "1    음악차트 빌보드 라이센스 브랜드 빌보드스타일(@billboardsnstyle )이 ...   \n",
       "2    자연스럽게! . 꼬불거리는 S컬은 시간이 지날수록 머리가 부해지는 단점이 있죠! 자...   \n",
       "3    실장 👉🏼@seewoobaek - - 😁 😁 - - 😄많이뜨는 직모상태에서 자연스럽...   \n",
       "4    + 💼 + 👞 = 🧡 @burberry @thombrowne @hermes @bot...   \n",
       "..                                                 ...   \n",
       "495  전상품 최대 70% 할인중 ] snsmong.com 상품 가격표 - ✅ 24시간 무...   \n",
       "496  포마드가 새롭게 런칭합니다. . . 또다른 웨트스타일링에 시작을 알리는 22년 1월...   \n",
       "497                                                      \n",
       "498  쓰면 머리가 떡진다? 놉! 에브리톡톡 헤어토닉은 건조한 상태에서 사용하셔도 머리가 ...   \n",
       "499  듯 안 꾸민 러프한 헤어스타일에 민트 컬러로 화사한 분위기를 만들어봤어요👀 살짝 하...   \n",
       "\n",
       "                                               hashtag  \n",
       "0    [#다운펌, #가일컷, #가일펌, #후기사진, #가일펌스타일, #강남미용실, #강남...  \n",
       "1    [#광고, #빌보드스타일, #빌보드, #billboardstyle, #billboa...  \n",
       "2    [#볼륨펌, #시스루뱅, #남자시스루뱅, #시스루컷, #볼륨매직펌, #남자볼륨매직,...  \n",
       "3                         [#아이롱펌, #남자아이롱펌, #가일펌, #가일컷]  \n",
       "4    [#에르메스가방, #에르백, #hermesbag, #herbag, #bottegav...  \n",
       "..                                                 ...  \n",
       "495  [#헤어스타그램, #레이어드컷, #여자펌추천, #미디움펌, #헤어디자이너, #매직,...  \n",
       "496  [#벤라우진웨트포마드, #벤라우진포마드, #웨트포마드, #웨트헤어스타일링, #ben...  \n",
       "497                                                 []  \n",
       "498                                                 []  \n",
       "499  [#금강연화, #협찬, #맨트리, #남자헤어스타일, #올림머리, #남자머리, #남자...  \n",
       "\n",
       "[500 rows x 2 columns]"
      ]
     },
     "execution_count": 35,
     "metadata": {},
     "output_type": "execute_result"
    }
   ],
   "source": [
    "# 딕셔너리 csv 파일로 변환\n",
    "test = pd.DataFrame.from_dict(insta_dict)\n",
    "test"
   ]
  },
  {
   "cell_type": "markdown",
   "id": "195291d1",
   "metadata": {},
   "source": [
    "### 수집한 데이터 csv 파일로 저장"
   ]
  },
  {
   "cell_type": "code",
   "execution_count": 36,
   "id": "0f6c8ff9",
   "metadata": {},
   "outputs": [],
   "source": [
    "test.to_csv('./data/insta_워드크라우드.csv')"
   ]
  },
  {
   "cell_type": "code",
   "execution_count": 23,
   "id": "5a6d7c49",
   "metadata": {},
   "outputs": [
    {
     "data": {
      "text/html": [
       "<div>\n",
       "<style scoped>\n",
       "    .dataframe tbody tr th:only-of-type {\n",
       "        vertical-align: middle;\n",
       "    }\n",
       "\n",
       "    .dataframe tbody tr th {\n",
       "        vertical-align: top;\n",
       "    }\n",
       "\n",
       "    .dataframe thead th {\n",
       "        text-align: right;\n",
       "    }\n",
       "</style>\n",
       "<table border=\"1\" class=\"dataframe\">\n",
       "  <thead>\n",
       "    <tr style=\"text-align: right;\">\n",
       "      <th></th>\n",
       "      <th>image</th>\n",
       "      <th>text</th>\n",
       "      <th>hashtag</th>\n",
       "    </tr>\n",
       "  </thead>\n",
       "  <tbody>\n",
       "  </tbody>\n",
       "</table>\n",
       "</div>"
      ],
      "text/plain": [
       "Empty DataFrame\n",
       "Columns: [image, text, hashtag]\n",
       "Index: []"
      ]
     },
     "execution_count": 23,
     "metadata": {},
     "output_type": "execute_result"
    }
   ],
   "source": [
    "# test['image'].isnull().sum()\n",
    "# test[test.image.isnull()]\n",
    "\n",
    "test = test.dropna(axis=0)\n",
    "test[test.image.isnull()]\n"
   ]
  },
  {
   "cell_type": "markdown",
   "id": "aeb29a18",
   "metadata": {},
   "source": [
    "### csv 파일에서 링크만 가지고 와서 이미지로 저장시킴"
   ]
  },
  {
   "cell_type": "code",
   "execution_count": 24,
   "id": "de042843",
   "metadata": {},
   "outputs": [],
   "source": [
    "n = 1\n",
    "\n",
    "for i in test['image']:\n",
    "    with urlopen(i) as f:\n",
    "        with open('./insta_hair_crawling/ivyleague/' + 'hair' + str(n) + '.jpg', 'wb') as h:\n",
    "            img = f.read()\n",
    "            h.write(img)\n",
    "        n += 1"
   ]
  },
  {
   "cell_type": "code",
   "execution_count": null,
   "id": "8a670917",
   "metadata": {},
   "outputs": [],
   "source": []
  }
 ],
 "metadata": {
  "kernelspec": {
   "display_name": "Python 3 (ipykernel)",
   "language": "python",
   "name": "python3"
  },
  "language_info": {
   "codemirror_mode": {
    "name": "ipython",
    "version": 3
   },
   "file_extension": ".py",
   "mimetype": "text/x-python",
   "name": "python",
   "nbconvert_exporter": "python",
   "pygments_lexer": "ipython3",
   "version": "3.9.7"
  }
 },
 "nbformat": 4,
 "nbformat_minor": 5
}
