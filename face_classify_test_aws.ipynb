{
 "cells": [
  {
   "cell_type": "markdown",
   "id": "34c6bb0b",
   "metadata": {},
   "source": [
    "### 파일 복붙 -> 제거\n",
    "#### db에 있는 사용자인지 확인해서 모델 돌리고 결과값 나오게끔 반복문/조건문 만들기"
   ]
  },
  {
   "cell_type": "code",
   "execution_count": 107,
   "id": "1b6725d3",
   "metadata": {},
   "outputs": [],
   "source": [
    "# 필요 패키지 전부 다\n",
    "from tensorflow.keras.models import load_model\n",
    "from tensorflow.python.keras.utils import np_utils\n",
    "from tensorflow.python.keras.models import Sequential\n",
    "from tensorflow.python.keras.layers import Dense, Activation\n",
    "import tensorflow as tf\n",
    "import numpy as np\n",
    "import os\n",
    "from numpy import argmax\n",
    "import matplotlib.pyplot as plt             \n",
    "import cv2                                 \n",
    "from tqdm import tqdm\n",
    "import shutil\n",
    "from pathlib import Path\n",
    "import json\n",
    "from collections import OrderedDict\n",
    "\n",
    "from PIL import ImageFile\n",
    "ImageFile.LOAD_TRUNCATED_IMAGES = True\n",
    "\n",
    "# cpu만 강제 사용\n",
    "os.environ[\"CUDA_VISIBLE_DEVICES\"] = \"-1\"\n",
    "\n",
    "# json 저장\n",
    "after_table = OrderedDict()"
   ]
  },
  {
   "cell_type": "code",
   "execution_count": 108,
   "id": "aed24546",
   "metadata": {},
   "outputs": [],
   "source": [
    "'''\n",
    "# 사용자 정보를 알 수 있는 게 필요함!!\n",
    "# 새로운 이미지가 들어올 때 txt로 user 정보가 같이 들어오던가\n",
    "# 새로운 이미지 파일명 자체가 '날짜_이름_전화번호' 의 형식으로 들어와야 누군지 확인 가능\n",
    "'''\n",
    "\n",
    "img_test = '2022-05-25-홍길동.jpg'  # 이미지 이름이 이렇다는 가정 하에\n",
    "name = img_test.split('-',3)[3]\n",
    "name = name.split('.')[0]\n",
    "phone_number = '01012345678'\n",
    "\n",
    "# 사진 위치 경로 / 복제 시킬 경로\n",
    "base_path = './hair_image/before_hair/'\n",
    "storage_path = './hair_image/storage/'"
   ]
  },
  {
   "cell_type": "code",
   "execution_count": 109,
   "id": "c62dd56b",
   "metadata": {},
   "outputs": [],
   "source": [
    "# 얼굴형 분류 모델 돌리기\n",
    "\n",
    "def face_classify(name,phone_number,base_path,storage_path):\n",
    "    for (root, directories, files) in os.walk(base_path):\n",
    "        for file in files:\n",
    "            file_path = os.path.join(root, file)\n",
    "            fp = file_path.split('/',4)[3].split('_',1)[0]\n",
    "\n",
    "            if fp == name:\n",
    "                # storage 폴더에 같은 '이름_전화번호' 형식으로 폴더 생성 및 파일 복제\n",
    "                storage = storage_path + name + '_' + phone_number\n",
    "                # os.mkdir(storage)\n",
    "                # shutil.copy(file_path, storage) \n",
    "\n",
    "                model = load_model('model.h5') # 모델 로드\n",
    "\n",
    "                # 클래스 및 이미지 사이즈 지정하는 부분\n",
    "                class_names = ['Heart', 'Oblong', 'Oval', 'Round', 'Square']\n",
    "                class_names_label = {class_name:i for i, class_name in enumerate(class_names)}\n",
    "\n",
    "                nb_classes = len(class_names)\n",
    "\n",
    "                IMAGE_SIZE = (150, 150)\n",
    "\n",
    "                # 이미지 reshape\n",
    "                # 파일 경로에 한글 있으므로 -> array -> decode -> cvt\n",
    "                img_array = np.fromfile(file_path, np.uint8)\n",
    "                test_image = cv2.imdecode(img_array, cv2.IMREAD_COLOR)\n",
    "                test_image = cv2.cvtColor(test_image, cv2.COLOR_BGR2RGB)\n",
    "                test_image = cv2.resize(test_image, IMAGE_SIZE) \n",
    "                test_image = np.array(test_image, dtype = 'float32')\n",
    "                test_image = test_image / 255.0\n",
    "                test_image = test_image.reshape((-1,150,150,3))\n",
    "\n",
    "                # 얼굴형 예측\n",
    "                predictions = model.predict(test_image)\n",
    "                pred_labels = np.argmax(predictions, axis = 1) \n",
    "\n",
    "                # 예측 label값 출력 --> face_shape 라는 이름으로 \n",
    "                face_shape = class_names[int(pred_labels)]\n",
    "\n",
    "                # 다 돌아갔으면 파일 지우기 --> 실행 X\n",
    "                # Path(file_path).unlink()\n",
    "\n",
    "                return face_shape"
   ]
  },
  {
   "cell_type": "code",
   "execution_count": 110,
   "id": "0f4f3c37",
   "metadata": {},
   "outputs": [
    {
     "name": "stdout",
     "output_type": "stream",
     "text": [
      "1/1 [==============================] - 0s 72ms/step\n"
     ]
    },
    {
     "data": {
      "text/plain": [
       "'Oblong'"
      ]
     },
     "execution_count": 110,
     "metadata": {},
     "output_type": "execute_result"
    }
   ],
   "source": [
    "face_classify(name,phone_number,base_path,storage_path)"
   ]
  },
  {
   "cell_type": "code",
   "execution_count": 111,
   "id": "9d1afbd0",
   "metadata": {},
   "outputs": [],
   "source": [
    "# 사용자 정보 json 파일로 반환\n",
    "\n",
    "after_table['name'] = name\n",
    "after_table['face'] = face_shape\n",
    "after_table['recom_hair'] = {\"1\":\"보브\" ,\"2\":\"히피\",\"3\":\"숏단발\",\"4\":\"레이어드\" }\n",
    "after_table['before_hair'] = \"원랭스\"\n",
    "after_table['after_hair'] = \"보브\"\n",
    "after_table['satisfaction'] = \"만족\"\n",
    "\n",
    "# with open('/content/drive/MyDrive/Colab Notebooks/user.json', 'w', encoding='utf-8') as json_file:\n",
    "#   json.dump(after_table, json_file, ensure_ascii=False, indent='\\t')\n",
    "\n",
    "with open('./data/test.json', 'w', encoding='utf-8') as json_file:\n",
    "  json.dump(after_table, json_file, ensure_ascii=False, indent='\\t')"
   ]
  },
  {
   "cell_type": "code",
   "execution_count": 112,
   "id": "86d3535e",
   "metadata": {},
   "outputs": [
    {
     "data": {
      "text/plain": [
       "OrderedDict([('name', '홍길동'),\n",
       "             ('face', 'Oblong'),\n",
       "             ('recom_hair', {'1': '보브', '2': '히피', '3': '숏단발', '4': '레이어드'}),\n",
       "             ('before_hair', '원랭스'),\n",
       "             ('after_hair', '보브'),\n",
       "             ('satisfaction', '만족')])"
      ]
     },
     "execution_count": 112,
     "metadata": {},
     "output_type": "execute_result"
    }
   ],
   "source": [
    "after_table"
   ]
  },
  {
   "cell_type": "code",
   "execution_count": 104,
   "id": "5fffb766",
   "metadata": {},
   "outputs": [],
   "source": []
  }
 ],
 "metadata": {
  "kernelspec": {
   "display_name": "Python 3 (ipykernel)",
   "language": "python",
   "name": "python3"
  },
  "language_info": {
   "codemirror_mode": {
    "name": "ipython",
    "version": 3
   },
   "file_extension": ".py",
   "mimetype": "text/x-python",
   "name": "python",
   "nbconvert_exporter": "python",
   "pygments_lexer": "ipython3",
   "version": "3.9.7"
  }
 },
 "nbformat": 4,
 "nbformat_minor": 5
}
